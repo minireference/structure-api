{
 "cells": [
  {
   "cell_type": "code",
   "execution_count": 3,
   "metadata": {
    "collapsed": false
   },
   "outputs": [],
   "source": [
    "import os\n",
    "os.environ.setdefault(\"DJANGO_SETTINGS_MODULE\", \"config\")\n",
    "os.environ.setdefault(\"DJANGO_CONFIGURATION\", \"Local\")\n",
    "\n",
    "import configurations\n",
    "configurations.setup()\n",
    "\n",
    "# import django\n",
    "from django.conf import settings\n",
    "# settings.configure(DEBUG=True)\n",
    "# django.setup()\n"
   ]
  },
  {
   "cell_type": "code",
   "execution_count": 5,
   "metadata": {
    "collapsed": false
   },
   "outputs": [],
   "source": [
    "# Now this script or any imported module can use any part of Django it needs.\n",
    "from djstruct import models"
   ]
  },
  {
   "cell_type": "code",
   "execution_count": 4,
   "metadata": {
    "collapsed": false
   },
   "outputs": [
    {
     "data": {
      "text/plain": [
       "('django.contrib.admin',\n",
       " 'django.contrib.auth',\n",
       " 'django.contrib.contenttypes',\n",
       " 'django.contrib.sessions',\n",
       " 'django.contrib.messages',\n",
       " 'django.contrib.staticfiles',\n",
       " 'rest_framework',\n",
       " 'rest_framework.authtoken',\n",
       " 'django_rq',\n",
       " 'versatileimagefield',\n",
       " 'django_extensions',\n",
       " 'authentication',\n",
       " 'users',\n",
       " 'djstruct')"
      ]
     },
     "execution_count": 4,
     "metadata": {},
     "output_type": "execute_result"
    }
   ],
   "source": [
    "settings.INSTALLED_APPS"
   ]
  },
  {
   "cell_type": "code",
   "execution_count": 6,
   "metadata": {
    "collapsed": true
   },
   "outputs": [],
   "source": [
    "import yaml"
   ]
  },
  {
   "cell_type": "code",
   "execution_count": 20,
   "metadata": {
    "collapsed": false
   },
   "outputs": [],
   "source": [
    "IMPORD_DATA_DIR = '/Users/ivan/Projects/Minireference/STRUCTURE/structure-api/data/miniref'\n",
    "context_yaml_file = os.path.join(IMPORD_DATA_DIR,'context.yml')\n",
    "context = yaml.load(open(context_yaml_file))\n",
    "\n",
    "data_filenames = ['advanced_math.yml', 'cs.yml', 'math.yml', 'physics.yml']\n",
    "all_data = []\n",
    "for filename in data_filenames:\n",
    "    this_yaml_file = os.path.join(IMPORD_DATA_DIR, filename)\n",
    "    this_data = yaml.load(open(this_yaml_file))\n",
    "    all_data += this_data\n"
   ]
  },
  {
   "cell_type": "code",
   "execution_count": 31,
   "metadata": {
    "collapsed": false
   },
   "outputs": [
    {
     "data": {
      "text/plain": [
       "{'description': \"Euclidian geometry assumaes the space we're working in is flat. Flat space is all about triangles\\n\\n but things get different as we move to three dimensions.\\n In three dimensions, the sum of angles of a triangle do not add to 180 degrees and the notion of circle is replaced by spheres. \\n Bolyai and Lobachevskii laid the foundations of non-euclidean geometry that was taken further by Riemann with his Riemannian Geometry that deals with study of manifolds. \\n Riemannian Geometry is a branch of Differential Geometry that uses the techniques of differential calculus and integral calculus, \\n as well as linear algebra and multilinear algebra, to study problems in geometry.\\n\",\n",
       " 'path': 'math/geometry/non-euclidean',\n",
       " 'usedfors': [{'explain': u'To understand Einsten\\u2019s general theory of relativity you need to know the math of curved spaces.',\n",
       "   'usedfor': 'physics/general_relativity'}]}"
      ]
     },
     "execution_count": 31,
     "metadata": {},
     "output_type": "execute_result"
    }
   ],
   "source": [
    "all_data[5]"
   ]
  },
  {
   "cell_type": "code",
   "execution_count": 46,
   "metadata": {
    "collapsed": false
   },
   "outputs": [],
   "source": [
    "\n",
    "class PrerequisteReference(object):\n",
    "    \"\"\"\n",
    "    A wrapper that accepts either a string or a dict prerequisite data.\n",
    "    \"\"\"\n",
    "    def __init__(self, data):\n",
    "        if isinstance(data, basestring):\n",
    "            self.prerequisite = data\n",
    "            self.explain = None\n",
    "            self.level = None\n",
    "        elif isinstance(data, dict):\n",
    "            self.prerequisite = data.get('prerequisite')\n",
    "            self.explain = data.get('explain', None)\n",
    "            self.level = data.get('level', None)\n",
    "        else:\n",
    "            raise ValueError('data must be string or dict')\n",
    "\n",
    "class UsedforReference(object):\n",
    "    \"\"\"\n",
    "    A wrapper that accepts either a string or a dict usedfor data.\n",
    "    \"\"\"\n",
    "    def __init__(self, data):\n",
    "        if isinstance(data, basestring):\n",
    "            self.usedfor = data\n",
    "            self.explain = None\n",
    "            self.level = None\n",
    "        elif isinstance(data, dict):\n",
    "            self.usedfor = data.get('usedfor')\n",
    "            self.explain = data.get('explain', None)\n",
    "            self.level = data.get('level', None)\n",
    "        else:\n",
    "            raise ValueError('data must be string or dict')"
   ]
  },
  {
   "cell_type": "code",
   "execution_count": 37,
   "metadata": {
    "collapsed": false
   },
   "outputs": [
    {
     "data": {
      "text/plain": [
       "{'explain': None, 'level': None, 'prerequisite': 'math/calc'}"
      ]
     },
     "execution_count": 37,
     "metadata": {},
     "output_type": "execute_result"
    }
   ],
   "source": []
  },
  {
   "cell_type": "code",
   "execution_count": 47,
   "metadata": {
    "collapsed": false
   },
   "outputs": [],
   "source": [
    "all_paths = set()\n",
    "all_path_refs = set()\n",
    "for datum in all_data:\n",
    "    all_paths.add(datum['path'])\n",
    "    # print datum['path']\n",
    "    if 'prerequisites' in datum and datum['prerequisites'] is not None:\n",
    "        for prereq_str_or_dict in datum['prerequisites']:\n",
    "            prereq = PrerequisteReference(prereq_str_or_dict)\n",
    "            all_path_refs.add(prereq.prerequisite)\n",
    "    if 'usedfors' in datum:\n",
    "        for usedfor_str_or_dict in datum['usedfors']:\n",
    "            usedfor = UsedforReference(usedfor_str_or_dict)\n",
    "            all_path_refs.add(usedfor.usedfor)\n",
    "    # TODO: related\n"
   ]
  },
  {
   "cell_type": "code",
   "execution_count": 44,
   "metadata": {
    "collapsed": false
   },
   "outputs": [
    {
     "data": {
      "text/plain": [
       "{'cs/intro',\n",
       " 'math/algebra',\n",
       " 'math/algebraic_geometry',\n",
       " 'math/analysis',\n",
       " 'math/analysis/complex',\n",
       " 'math/calculus/derivatives',\n",
       " 'math/calculus/integrals',\n",
       " 'math/calculus/multivariable',\n",
       " 'math/calculus/ofvariations',\n",
       " 'math/calculus/vector',\n",
       " 'math/combinatorics',\n",
       " 'math/differential_equations',\n",
       " 'math/differential_geometry',\n",
       " 'math/functional_analysis',\n",
       " 'math/geometry/non-euclidean',\n",
       " 'math/linear_algebra',\n",
       " 'math/logic',\n",
       " 'math/measure_theory',\n",
       " 'math/number_theory',\n",
       " 'math/partial_differential_equations',\n",
       " 'math/probability',\n",
       " 'math/set_theory',\n",
       " 'math/statistics',\n",
       " 'math/topology',\n",
       " 'physics/classical_mechanics',\n",
       " 'physics/electricity',\n",
       " 'physics/electricity/circuits',\n",
       " 'physics/electromagnetism',\n",
       " 'physics/magnetism',\n",
       " 'physics/mechanics',\n",
       " 'physics/mechanics/laboratory',\n",
       " 'physics/optics',\n",
       " 'physics/quantum/advanced',\n",
       " 'physics/quantum_mechanics',\n",
       " 'physics/special_relativity',\n",
       " 'physics/waves'}"
      ]
     },
     "execution_count": 44,
     "metadata": {},
     "output_type": "execute_result"
    }
   ],
   "source": [
    "all_paths"
   ]
  },
  {
   "cell_type": "code",
   "execution_count": 48,
   "metadata": {
    "collapsed": false
   },
   "outputs": [
    {
     "data": {
      "text/plain": [
       "{'cs/computer_graphics',\n",
       " 'cs/information_theory',\n",
       " 'cs/information_theory/quantum',\n",
       " 'cs/machine_learning',\n",
       " 'eng/electronics',\n",
       " 'engineering/signals_and_systems',\n",
       " 'math/abstract_algebra',\n",
       " 'math/algebra',\n",
       " 'math/calculus',\n",
       " 'math/calculus/derivatives',\n",
       " 'math/calculus/integrals',\n",
       " 'math/calculus/multivariable',\n",
       " 'math/calculus/multivariate',\n",
       " 'math/calculus/ofvariations',\n",
       " 'math/calculus/vector',\n",
       " 'math/differential_equations',\n",
       " 'math/functions',\n",
       " 'math/geometry',\n",
       " 'math/linear_algebra',\n",
       " 'math/linear_algebra|GRAD',\n",
       " 'math/measure_theory',\n",
       " 'math/numbers',\n",
       " 'math/optimization',\n",
       " 'math/partial_differential_equations',\n",
       " 'math/probability',\n",
       " 'math/probability|GRAD',\n",
       " 'math/statistics',\n",
       " 'physics/classical_mechanics',\n",
       " 'physics/electricity',\n",
       " 'physics/electromagnetism|GRAD',\n",
       " 'physics/general_relativity',\n",
       " 'physics/hamiltonian_mechanics',\n",
       " 'physics/magnetism',\n",
       " 'physics/mechanics',\n",
       " 'physics/mechanics/laboratory',\n",
       " 'physics/modern_physics',\n",
       " 'physics/particle_physics',\n",
       " 'physics/quantum/advanced',\n",
       " 'physics/quantum/theory',\n",
       " 'physics/quantum_mechanics',\n",
       " 'physics/quantum_physics',\n",
       " 'physics/solid_state_physics',\n",
       " 'physics/thermodynamics',\n",
       " 'physics/waves'}"
      ]
     },
     "execution_count": 48,
     "metadata": {},
     "output_type": "execute_result"
    }
   ],
   "source": [
    "all_path_refs"
   ]
  },
  {
   "cell_type": "code",
   "execution_count": 49,
   "metadata": {
    "collapsed": false
   },
   "outputs": [
    {
     "data": {
      "text/plain": [
       "{'cs/computer_graphics',\n",
       " 'cs/information_theory',\n",
       " 'cs/information_theory/quantum',\n",
       " 'cs/machine_learning',\n",
       " 'eng/electronics',\n",
       " 'engineering/signals_and_systems',\n",
       " 'math/abstract_algebra',\n",
       " 'math/calculus',\n",
       " 'math/calculus/multivariate',\n",
       " 'math/functions',\n",
       " 'math/geometry',\n",
       " 'math/linear_algebra|GRAD',\n",
       " 'math/numbers',\n",
       " 'math/optimization',\n",
       " 'math/probability|GRAD',\n",
       " 'physics/electromagnetism|GRAD',\n",
       " 'physics/general_relativity',\n",
       " 'physics/hamiltonian_mechanics',\n",
       " 'physics/modern_physics',\n",
       " 'physics/particle_physics',\n",
       " 'physics/quantum/theory',\n",
       " 'physics/quantum_physics',\n",
       " 'physics/solid_state_physics',\n",
       " 'physics/thermodynamics'}"
      ]
     },
     "execution_count": 49,
     "metadata": {},
     "output_type": "execute_result"
    }
   ],
   "source": [
    "all_path_refs - all_paths"
   ]
  },
  {
   "cell_type": "code",
   "execution_count": null,
   "metadata": {
    "collapsed": true
   },
   "outputs": [],
   "source": []
  }
 ],
 "metadata": {
  "kernelspec": {
   "display_name": "Python 2",
   "language": "python",
   "name": "python2"
  },
  "language_info": {
   "codemirror_mode": {
    "name": "ipython",
    "version": 2
   },
   "file_extension": ".py",
   "mimetype": "text/x-python",
   "name": "python",
   "nbconvert_exporter": "python",
   "pygments_lexer": "ipython2",
   "version": "2.7.11"
  },
  "widgets": {
   "state": {},
   "version": "1.1.2"
  }
 },
 "nbformat": 4,
 "nbformat_minor": 2
}
