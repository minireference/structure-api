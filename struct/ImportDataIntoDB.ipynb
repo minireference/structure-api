{
 "cells": [
  {
   "cell_type": "code",
   "execution_count": 1,
   "metadata": {
    "collapsed": false
   },
   "outputs": [],
   "source": [
    "import os\n",
    "os.environ.setdefault(\"DJANGO_SETTINGS_MODULE\", \"config\")\n",
    "os.environ.setdefault(\"DJANGO_CONFIGURATION\", \"Local\")\n",
    "\n",
    "import configurations\n",
    "configurations.setup()\n",
    "\n",
    "# import django\n",
    "from django.conf import settings\n",
    "# settings.configure(DEBUG=True)\n",
    "# django.setup()\n"
   ]
  },
  {
   "cell_type": "code",
   "execution_count": 2,
   "metadata": {
    "collapsed": false
   },
   "outputs": [],
   "source": [
    "# Now this script or any imported module can use any part of Django it needs.\n",
    "from djstruct.models import DjangoBaseNode, DjangoDependencyRelation"
   ]
  },
  {
   "cell_type": "code",
   "execution_count": null,
   "metadata": {
    "collapsed": false
   },
   "outputs": [],
   "source": []
  },
  {
   "cell_type": "code",
   "execution_count": null,
   "metadata": {
    "collapsed": true
   },
   "outputs": [],
   "source": []
  },
  {
   "cell_type": "code",
   "execution_count": 3,
   "metadata": {
    "collapsed": false
   },
   "outputs": [],
   "source": [
    "import yaml\n",
    "IMPORD_DATA_DIR = '/Users/ivan/Projects/Minireference/STRUCTURE/structure-api/data/miniref'\n",
    "context_yaml_file = os.path.join(IMPORD_DATA_DIR,'context.yml')\n",
    "context = yaml.load(open(context_yaml_file))\n",
    "\n",
    "data_filenames = ['math.yml', 'physics.yml']\n",
    "all_data = []\n",
    "for filename in data_filenames:\n",
    "    this_yaml_file = os.path.join(IMPORD_DATA_DIR, filename)\n",
    "    this_data = yaml.load(open(this_yaml_file))\n",
    "    all_data += this_data\n"
   ]
  },
  {
   "cell_type": "code",
   "execution_count": 4,
   "metadata": {
    "collapsed": false
   },
   "outputs": [
    {
     "data": {
      "text/plain": [
       "22"
      ]
     },
     "execution_count": 4,
     "metadata": {},
     "output_type": "execute_result"
    }
   ],
   "source": [
    "len(all_data)"
   ]
  },
  {
   "cell_type": "code",
   "execution_count": 7,
   "metadata": {
    "collapsed": false
   },
   "outputs": [],
   "source": [
    "# YAML PARSING HELPER CLASSES\n",
    "################################################################################\n",
    "\n",
    "class PrerequisteReference(object):\n",
    "    \"\"\"\n",
    "    A wrapper that accepts either a string or a dict prerequisite data.\n",
    "    \"\"\"\n",
    "    def __init__(self, data):\n",
    "        if isinstance(data, basestring):\n",
    "            self.prerequisite = data\n",
    "            self.explain_prerequisite = None\n",
    "            self.level = None\n",
    "        elif isinstance(data, dict):\n",
    "            self.prerequisite = data.get('prerequisite')\n",
    "            self.explain_prerequisite = data.get('explain', None)\n",
    "            self.level = data.get('level', None)\n",
    "        else:\n",
    "            raise ValueError('data must be string or dict')\n",
    "\n",
    "\n",
    "class UsedforReference(object):\n",
    "    \"\"\"\n",
    "    A wrapper that accepts either a string or a dict usedfor data.\n",
    "    \"\"\"\n",
    "    def __init__(self, data):\n",
    "        if isinstance(data, basestring):\n",
    "            self.usedfor = data\n",
    "            self.explain_usedfor = None\n",
    "            self.level = None\n",
    "        elif isinstance(data, dict):\n",
    "            self.usedfor = data.get('usedfor')\n",
    "            self.explain_usedfor = data.get('explain', None)\n",
    "            self.level = data.get('level', None)\n",
    "        else:\n",
    "            raise ValueError('data must be string or dict')\n",
    "\n",
    "\n",
    "class RelatedReference(object):\n",
    "    \"\"\"\n",
    "    A wrapper that accepts either a string or a dict relation data.\n",
    "    \"\"\"\n",
    "    def __init__(self, source, data):\n",
    "        if source is None:\n",
    "            raise ValueError('must give relation source path')\n",
    "        self.source = source\n",
    "        if isinstance(data, basestring):\n",
    "            self.related = data\n",
    "            self.explain = None\n",
    "            self.level = None\n",
    "        elif isinstance(data, dict):\n",
    "            self.related = data.get('related')\n",
    "            self.explain = data.get('explain', None)\n",
    "            self.level = data.get('level', None)\n",
    "        else:\n",
    "            raise ValueError('data must be string or dict')\n",
    "\n",
    "\n",
    "            \n",
    "# MAIN NODE YAML PARSING CLASS\n",
    "################################################################################\n",
    "\n",
    "class NodeFromYamlDict(object):\n",
    "    \"\"\"\n",
    "    A class to handle loading a Node from it's YAML serarializaiton.\n",
    "    Usage:\n",
    "        node = NodeFromYamlDict(dict)\n",
    "        node.path / node.description / etc. are now available (or None)\n",
    "    \"\"\"\n",
    "    def __init__(self, data):\n",
    "        if not data['path']:\n",
    "            raise ValueError('Yaml data must have a `path`.')\n",
    "        self.path = data['path']\n",
    "        # aliases\n",
    "        self.aliases = []\n",
    "        if 'aliases' in datum and datum['aliases'] is not None:\n",
    "            for alias in datum['aliases']:\n",
    "                self.aliases.append(alias)\n",
    "        #\n",
    "        # optional properties: level, description, books\n",
    "        optional_props = ['level', 'description', 'books']\n",
    "        for prop_name in optional_props:\n",
    "            if prop_name in data and data[prop_name] is not None:\n",
    "                setattr(self, prop_name, data[prop_name])   \n",
    "        #\n",
    "        # process prereqs and usedfors\n",
    "        self.prerequisites = []\n",
    "        self.usedfors = []\n",
    "        if 'prerequisites' in datum and datum['prerequisites'] is not None:\n",
    "            for prereq_str_or_dict in datum['prerequisites']:\n",
    "                prereq = PrerequisteReference(prereq_str_or_dict)\n",
    "                self.prerequisites.append(prereq)\n",
    "        if 'usedfors' in datum and datum['usedfors'] is not None:\n",
    "            for usedfor_str_or_dict in datum['usedfors']:\n",
    "                usedfor = UsedforReference(usedfor_str_or_dict)\n",
    "                self.usedfors.append(usedfor)\n",
    "        #\n",
    "        # relations\n",
    "        self.relations = []\n",
    "        if 'relations' in datum and datum['relations'] is not None:\n",
    "            for relation_str_or_dict in datum['usedfors']:\n",
    "                relation = RelatedReference(self.path, relation_str_or_dict)\n",
    "                self.relations.append(relation)\n",
    "        #\n",
    "        # TODO: __class__, ispartof/contents \n",
    "        # also ccmms-specific ones: ccss_guid, ccss_url, asn_url"
   ]
  },
  {
   "cell_type": "code",
   "execution_count": null,
   "metadata": {
    "collapsed": false
   },
   "outputs": [],
   "source": []
  },
  {
   "cell_type": "markdown",
   "metadata": {},
   "source": []
  },
  {
   "cell_type": "code",
   "execution_count": 8,
   "metadata": {
    "collapsed": false
   },
   "outputs": [],
   "source": [
    "# inflate data prerequisites into objects\n",
    "data_objects = []\n",
    "\n",
    "# also, get a list of all paths and all the paths with refs\n",
    "all_paths = set()\n",
    "all_path_refs = set()\n",
    "\n",
    "for datum in all_data:\n",
    "    obj = NodeFromYamlDict(datum)\n",
    "    all_paths.add(obj.path)\n",
    "    \n",
    "    for prereq in obj.prerequisites:\n",
    "        all_path_refs.add(prereq.prerequisite)\n",
    "    for ufor in obj.usedfors:\n",
    "        all_path_refs.add(ufor.usedfor)\n",
    "    for rel in obj.relations:\n",
    "        all_path_refs.add(rel.related)\n",
    "    \n",
    "    data_objects.append(obj)"
   ]
  },
  {
   "cell_type": "code",
   "execution_count": 10,
   "metadata": {
    "collapsed": false
   },
   "outputs": [],
   "source": [
    "# PASS 0. delete all nodes\n",
    "for oldnode in DjangoBaseNode.objects.all():\n",
    "    oldnode.delete()\n",
    "for oldreln in DjangoDependencyRelation.objects.all():\n",
    "    oldreln.delete()\n",
    "\n",
    "    \n",
    "# PASS 1. create nodes\n",
    "for obj in data_objects:\n",
    "    node = DjangoBaseNode(\n",
    "        path=obj.path,\n",
    "        scope='miniref'\n",
    "    )\n",
    "    node.save()\n",
    "\n",
    "# PASS 2. create relations\n",
    "for obj in data_objects:\n",
    "    node = DjangoBaseNode.objects.get(path=obj.path)\n",
    "    for prereq in obj.prerequisites:\n",
    "        prereq_path = prereq.prerequisite\n",
    "        if prereq.prerequisite in all_paths:\n",
    "            prereq_node = DjangoBaseNode.objects.get(path=prereq_path)\n",
    "            # both ends exist...\n",
    "            rel = DjangoDependencyRelation(\n",
    "                    prerequisite=prereq_node,\n",
    "                    usedfor=node,\n",
    "                    explain_prerequisite=prereq.explain_prerequisite\n",
    "            )\n",
    "            if prereq.level is not None:\n",
    "                rel.level = prereq.level\n",
    "            rel.save()"
   ]
  },
  {
   "cell_type": "code",
   "execution_count": 11,
   "metadata": {
    "collapsed": false
   },
   "outputs": [
    {
     "name": "stdout",
     "output_type": "stream",
     "text": [
      "22\n",
      "32\n"
     ]
    }
   ],
   "source": [
    "print( len( DjangoBaseNode.objects.all() ) )\n",
    "\n",
    "print( len( DjangoDependencyRelation.objects.all() ) )\n",
    "# all_paths"
   ]
  },
  {
   "cell_type": "code",
   "execution_count": null,
   "metadata": {
    "collapsed": false
   },
   "outputs": [],
   "source": []
  },
  {
   "cell_type": "code",
   "execution_count": null,
   "metadata": {
    "collapsed": false
   },
   "outputs": [],
   "source": []
  },
  {
   "cell_type": "code",
   "execution_count": null,
   "metadata": {
    "collapsed": false
   },
   "outputs": [],
   "source": [
    "data_objects[2].__dict__"
   ]
  },
  {
   "cell_type": "code",
   "execution_count": 13,
   "metadata": {
    "collapsed": false
   },
   "outputs": [
    {
     "name": "stdout",
     "output_type": "stream",
     "text": [
      "prerequisites_for([K_math_numbers,K_math_functions,K_math_algebra],L_math_calculus).\n",
      "prerequisites_for([K_math_functions,K_math_algebra],L_math_calculus_derivatives).\n",
      "prerequisites_for([K_math_functions,K_math_algebra],L_math_calculus_integrals).\n",
      "prerequisites_for([K_math_numbers,K_math_functions,K_math_algebra,K_math_geometry],L_math_linear_algebra).\n",
      "prerequisites_for([K_math_calculus_derivatives,K_math_calculus_integrals],L_math_calculus_multivariable).\n",
      "prerequisites_for([K_math_calculus_derivatives,K_math_calculus_integrals,K_math_calculus_multivariable,K_math_linear_algebra],L_math_calculus_vector).\n",
      "prerequisites_for([K_math_calculus_derivatives,K_math_calculus_integrals,K_math_calculus_multivariable],L_math_probability).\n",
      "prerequisites_for([K_math_probability],L_math_statistics).\n",
      "prerequisites_for([K_math_calculus,K_math_linear_algebra],L_math_differential_equations).\n",
      "prerequisites_for([K_math_calculus_derivatives,K_math_calculus_integrals,K_math_linear_algebra,K_math_differential_equations],L_math_partial_differential_equations).\n",
      "prerequisites_for([K_math_calculus_derivatives,K_math_calculus_integrals],L_physics_mechanics).\n",
      "prerequisites_for([K_physics_mechanics],L_physics_mechanics_laboratory).\n",
      "prerequisites_for([K_math_calculus_derivatives,K_math_calculus_integrals,K_physics_mechanics],L_physics_electricity).\n",
      "prerequisites_for([],L_physics_magnetism).\n",
      "prerequisites_for([],L_physics_waves).\n",
      "prerequisites_for([K_physics_waves,K_math_geometry,K_math_algebra],L_physics_optics).\n",
      "prerequisites_for([K_math_functions,K_math_algebra,K_math_calculus,K_math_linear_algebra,K_physics_mechanics,K_math_calculus_ofvariations],L_physics_classical_mechanics).\n",
      "prerequisites_for([K_math_calculus,K_physics_hamiltonian_mechanics,K_physics_modern_physics,K_math_linear_algebra],L_physics_quantum_mechanics).\n",
      "prerequisites_for([],L_physics_electricity_circuits).\n",
      "prerequisites_for([],L_physics_special_relativity).\n",
      "prerequisites_for([K_math_calculus_vector],L_physics_electromagnetism).\n",
      "prerequisites_for([K_physics_quantum_mechanics,K_physics_classical_mechanics,K_math_linear_algebra,K_math_abstract_algebra],L_physics_quantum_advanced).\n"
     ]
    }
   ],
   "source": [
    "#### UNRELATED PROLOG STUFF\n",
    "\n",
    "perl_funciton_name = 'prerequisites_for'\n",
    "\n",
    "def slashes_to_underscores(subj):\n",
    "    return subj.replace('/','_')\n",
    "\n",
    "def knowify(subj):\n",
    "    return 'K_'+slashes_to_underscores(subj)\n",
    "\n",
    "def learnify(subj):\n",
    "    return 'L_'+slashes_to_underscores(subj)\n",
    "\n",
    "def make_prolog_statement(subject):\n",
    "    prereqs_list = []\n",
    "    if 'prerequisites' in subject and subject['prerequisites'] is not None:\n",
    "        for prereq_str_or_dict in subject['prerequisites']:\n",
    "            prereq = PrerequisteReference(prereq_str_or_dict)\n",
    "            prereqs_list.append(prereq.prerequisite)\n",
    "    prolog_statement = ''\n",
    "    prolog_statement += perl_funciton_name + '('\n",
    "    prolog_statement += '['\n",
    "    prolog_statement += ','.join( map(knowify, prereqs_list) )\n",
    "    prolog_statement += '],'\n",
    "    prolog_statement += learnify(subject['path'])\n",
    "    prolog_statement += ').'\n",
    "    return prolog_statement\n",
    "\n",
    "for subject in all_data:\n",
    "    print make_prolog_statement(subject)\n"
   ]
  },
  {
   "cell_type": "code",
   "execution_count": null,
   "metadata": {
    "collapsed": false
   },
   "outputs": [],
   "source": []
  },
  {
   "cell_type": "code",
   "execution_count": null,
   "metadata": {
    "collapsed": true
   },
   "outputs": [],
   "source": []
  },
  {
   "cell_type": "code",
   "execution_count": null,
   "metadata": {
    "collapsed": true
   },
   "outputs": [],
   "source": []
  }
 ],
 "metadata": {
  "kernelspec": {
   "display_name": "Python 2",
   "language": "python",
   "name": "python2"
  },
  "language_info": {
   "codemirror_mode": {
    "name": "ipython",
    "version": 2
   },
   "file_extension": ".py",
   "mimetype": "text/x-python",
   "name": "python",
   "nbconvert_exporter": "python",
   "pygments_lexer": "ipython2",
   "version": "2.7.11"
  },
  "widgets": {
   "state": {},
   "version": "1.1.2"
  }
 },
 "nbformat": 4,
 "nbformat_minor": 2
}
