{
 "cells": [
  {
   "cell_type": "code",
   "execution_count": 1,
   "metadata": {
    "collapsed": false
   },
   "outputs": [],
   "source": [
    "import os\n",
    "os.environ.setdefault(\"DJANGO_SETTINGS_MODULE\", \"config\")\n",
    "os.environ.setdefault(\"DJANGO_CONFIGURATION\", \"Local\")\n",
    "\n",
    "import configurations\n",
    "configurations.setup()\n",
    "\n",
    "# import django\n",
    "from django.conf import settings\n",
    "# settings.configure(DEBUG=True)\n",
    "# django.setup()\n"
   ]
  },
  {
   "cell_type": "code",
   "execution_count": 2,
   "metadata": {
    "collapsed": false
   },
   "outputs": [],
   "source": [
    "# Now this script or any imported module can use any part of Django it needs.\n",
    "from djstruct.models import DjangoBaseNode, DjangoDependencyRelation"
   ]
  },
  {
   "cell_type": "code",
   "execution_count": null,
   "metadata": {
    "collapsed": false
   },
   "outputs": [],
   "source": []
  },
  {
   "cell_type": "code",
   "execution_count": null,
   "metadata": {
    "collapsed": true
   },
   "outputs": [],
   "source": []
  },
  {
   "cell_type": "code",
   "execution_count": 3,
   "metadata": {
    "collapsed": false
   },
   "outputs": [],
   "source": [
    "from yamlstore.loaders import read_data_dir\n",
    "from yamlstore.loaders import PrerequisteReference, UsedforReference, RelatedReference\n",
    "from yamlstore.loaders import NodeFromYamlDict\n",
    "\n",
    "IMPORT_DATA_DIR = '/Users/ivan/Projects/Minireference/STRUCTURE/structure-api/data/miniref'\n",
    "\n",
    "all_data = read_data_dir(IMPORT_DATA_DIR)\n"
   ]
  },
  {
   "cell_type": "code",
   "execution_count": 4,
   "metadata": {
    "collapsed": false
   },
   "outputs": [
    {
     "data": {
      "text/plain": [
       "22"
      ]
     },
     "execution_count": 4,
     "metadata": {},
     "output_type": "execute_result"
    }
   ],
   "source": [
    "len(all_data)"
   ]
  },
  {
   "cell_type": "code",
   "execution_count": 5,
   "metadata": {
    "collapsed": false
   },
   "outputs": [
    {
     "data": {
      "text/plain": [
       "{'__class__': 'Subject',\n",
       " 'books': \"Any linear algebra book. Anton's is decent.\",\n",
       " 'description': 'Linear algebra deals with vectors, linear transformations, matrices, linear equations, vector spaces, projections, and many other topics. This is one of the most important subjects for undergraduates to learn well because linear algebra techniques are used all over the place. The computational techniques, geometric intuition, and theoretical analysis all combine to form a mathematical modelling toolbox that students can then use to tackle problems in mathematics, physics, chemistry, engineering, computing, business, economics, and even the social sciences. Linear algebra is also an important stepping stone towards graduate-level mathematics.\\n',\n",
       " 'level': 'UGRAD',\n",
       " 'path': 'math/linear_algebra',\n",
       " 'prerequisites': ['math/numbers',\n",
       "  'math/functions',\n",
       "  'math/algebra',\n",
       "  'math/geometry'],\n",
       " 'relations': None,\n",
       " 'scope': 'miniref',\n",
       " 'usedfors': [{'explain': 'The first linear algebra course is stepping stone towards learning graduate-level linear algebra.',\n",
       "   'usedfor': 'math/linear_algebra|GRAD'},\n",
       "  'math/calculus/multivariable',\n",
       "  'math/calculus/vector',\n",
       "  'cs/computer_graphics',\n",
       "  'cs/machine_learning',\n",
       "  'physics/quantum_mechanics',\n",
       "  'cs/information_theory',\n",
       "  'math/optimization']}"
      ]
     },
     "execution_count": 5,
     "metadata": {},
     "output_type": "execute_result"
    }
   ],
   "source": [
    "all_data[3]"
   ]
  },
  {
   "cell_type": "code",
   "execution_count": 6,
   "metadata": {
    "collapsed": false
   },
   "outputs": [],
   "source": [
    "from yamlstore.loaders import dicts_to_objects, extact_paths\n",
    "\n",
    "data_objects = dicts_to_objects(all_data)\n",
    "\n",
    "all_paths, all_path_refs = extact_paths(data_objects)\n",
    "\n",
    "    "
   ]
  },
  {
   "cell_type": "markdown",
   "metadata": {},
   "source": []
  },
  {
   "cell_type": "code",
   "execution_count": null,
   "metadata": {
    "collapsed": false
   },
   "outputs": [],
   "source": []
  },
  {
   "cell_type": "code",
   "execution_count": 7,
   "metadata": {
    "collapsed": false
   },
   "outputs": [],
   "source": [
    "# PASS 0. delete all nodes\n",
    "for oldnode in DjangoBaseNode.objects.all():\n",
    "    oldnode.delete()\n",
    "for oldreln in DjangoDependencyRelation.objects.all():\n",
    "    oldreln.delete()\n",
    "\n"
   ]
  },
  {
   "cell_type": "code",
   "execution_count": 9,
   "metadata": {
    "collapsed": true
   },
   "outputs": [],
   "source": [
    "from yamlstore.loaders import create_nodes_and_relations\n",
    "\n",
    "\n",
    "create_nodes_and_relations(data_objects)"
   ]
  },
  {
   "cell_type": "code",
   "execution_count": 11,
   "metadata": {
    "collapsed": false
   },
   "outputs": [
    {
     "name": "stdout",
     "output_type": "stream",
     "text": [
      "22\n",
      "32\n"
     ]
    }
   ],
   "source": [
    "print( len( DjangoBaseNode.objects.all() ) )\n",
    "\n",
    "print( len( DjangoDependencyRelation.objects.all() ) )\n",
    "# all_paths"
   ]
  },
  {
   "cell_type": "code",
   "execution_count": null,
   "metadata": {
    "collapsed": false
   },
   "outputs": [],
   "source": []
  },
  {
   "cell_type": "code",
   "execution_count": null,
   "metadata": {
    "collapsed": false
   },
   "outputs": [],
   "source": []
  },
  {
   "cell_type": "code",
   "execution_count": null,
   "metadata": {
    "collapsed": false
   },
   "outputs": [],
   "source": [
    "data_objects[2].__dict__"
   ]
  },
  {
   "cell_type": "code",
   "execution_count": null,
   "metadata": {
    "collapsed": false
   },
   "outputs": [],
   "source": [
    "#### UNRELATED PROLOG STUFF\n",
    "\n",
    "perl_funciton_name = 'prerequisites_for'\n",
    "\n",
    "def slashes_to_underscores(subj):\n",
    "    return subj.replace('/','_')\n",
    "\n",
    "def knowify(subj):\n",
    "    return 'K_'+slashes_to_underscores(subj)\n",
    "\n",
    "def learnify(subj):\n",
    "    return 'L_'+slashes_to_underscores(subj)\n",
    "\n",
    "def make_prolog_statement(subject):\n",
    "    prereqs_list = []\n",
    "    if 'prerequisites' in subject and subject['prerequisites'] is not None:\n",
    "        for prereq_str_or_dict in subject['prerequisites']:\n",
    "            prereq = PrerequisteReference(prereq_str_or_dict)\n",
    "            prereqs_list.append(prereq.prerequisite)\n",
    "    prolog_statement = ''\n",
    "    prolog_statement += perl_funciton_name + '('\n",
    "    prolog_statement += '['\n",
    "    prolog_statement += ','.join( map(knowify, prereqs_list) )\n",
    "    prolog_statement += '],'\n",
    "    prolog_statement += learnify(subject['path'])\n",
    "    prolog_statement += ').'\n",
    "    return prolog_statement\n",
    "\n",
    "for subject in all_data:\n",
    "    print make_prolog_statement(subject)\n"
   ]
  },
  {
   "cell_type": "code",
   "execution_count": null,
   "metadata": {
    "collapsed": false
   },
   "outputs": [],
   "source": []
  },
  {
   "cell_type": "code",
   "execution_count": null,
   "metadata": {
    "collapsed": true
   },
   "outputs": [],
   "source": [
    "l  = [1,2,3]"
   ]
  },
  {
   "cell_type": "code",
   "execution_count": null,
   "metadata": {
    "collapsed": true
   },
   "outputs": [],
   "source": [
    "l.extend( [3,4])"
   ]
  },
  {
   "cell_type": "code",
   "execution_count": null,
   "metadata": {
    "collapsed": false
   },
   "outputs": [],
   "source": [
    "l"
   ]
  },
  {
   "cell_type": "code",
   "execution_count": null,
   "metadata": {
    "collapsed": true
   },
   "outputs": [],
   "source": [
    "d = {'a':3, 'b':4}"
   ]
  },
  {
   "cell_type": "code",
   "execution_count": null,
   "metadata": {
    "collapsed": true
   },
   "outputs": [],
   "source": [
    "d.update( {'c':55} )"
   ]
  },
  {
   "cell_type": "code",
   "execution_count": null,
   "metadata": {
    "collapsed": false
   },
   "outputs": [],
   "source": [
    "d"
   ]
  },
  {
   "cell_type": "code",
   "execution_count": null,
   "metadata": {
    "collapsed": true
   },
   "outputs": [],
   "source": [
    "d.update({'a':6})"
   ]
  },
  {
   "cell_type": "code",
   "execution_count": null,
   "metadata": {
    "collapsed": false
   },
   "outputs": [],
   "source": [
    "d"
   ]
  },
  {
   "cell_type": "code",
   "execution_count": null,
   "metadata": {
    "collapsed": true
   },
   "outputs": [],
   "source": []
  }
 ],
 "metadata": {
  "kernelspec": {
   "display_name": "Python 2",
   "language": "python",
   "name": "python2"
  },
  "language_info": {
   "codemirror_mode": {
    "name": "ipython",
    "version": 2
   },
   "file_extension": ".py",
   "mimetype": "text/x-python",
   "name": "python",
   "nbconvert_exporter": "python",
   "pygments_lexer": "ipython2",
   "version": "2.7.11"
  },
  "widgets": {
   "state": {},
   "version": "1.1.2"
  }
 },
 "nbformat": 4,
 "nbformat_minor": 2
}
